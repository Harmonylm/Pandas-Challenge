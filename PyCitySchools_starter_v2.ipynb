{
 "cells": [
  {
   "cell_type": "markdown",
   "metadata": {},
   "source": [
    "### Note\n",
    "* Instructions have been included for each segment. You do not have to follow them exactly, but they are included to help you think through the steps."
   ]
  },
  {
   "cell_type": "code",
   "execution_count": 1,
   "metadata": {},
   "outputs": [],
   "source": [
    "# Dependencies and Setup\n",
    "import pandas as pd\n",
    "\n",
    "# Use numpy for dataframe apply\n",
    "import numpy\n",
    "\n",
    "# File to Load (Remember to Change These)\n",
    "school_data_to_load = \"Resources/schools_complete.csv\"\n",
    "student_data_to_load = \"Resources/students_complete.csv\"\n",
    "\n",
    "# Read School and Student Data File and store into Pandas Data Frames\n",
    "school_data = pd.read_csv(school_data_to_load)\n",
    "student_data = pd.read_csv(student_data_to_load)\n",
    "\n",
    "# Combine the data into a single dataset\n",
    "school_data_complete = pd.merge(student_data, school_data, how=\"left\", on=[\"school_name\", \"school_name\"])"
   ]
  },
  {
   "cell_type": "markdown",
   "metadata": {},
   "source": [
    "## District Summary\n",
    "\n",
    "* Calculate the total number of schools\n",
    "\n",
    "* Calculate the total number of students\n",
    "\n",
    "* Calculate the total budget\n",
    "\n",
    "* Calculate the average math score \n",
    "\n",
    "* Calculate the average reading score\n",
    "\n",
    "* Calculate the overall passing rate (overall average score), i.e. (avg. math score + avg. reading score)/2\n",
    "\n",
    "* Calculate the percentage of students with a passing math score (70 or greater)\n",
    "\n",
    "* Calculate the percentage of students with a passing reading score (70 or greater)\n",
    "\n",
    "* Create a dataframe to hold the above results\n",
    "\n",
    "* Optional: give the displayed data cleaner formatting"
   ]
  },
  {
   "cell_type": "code",
   "execution_count": 2,
   "metadata": {
    "scrolled": true
   },
   "outputs": [
    {
     "data": {
      "text/html": [
       "<style  type=\"text/css\" >\n",
<<<<<<< HEAD
       "</style><table id=\"T_5285a230_406a_11ea_8fbe_3ccd365e1f6e\" ><thead>    <tr>        <th class=\"col_heading level0 col0\" >Total Schools</th>        <th class=\"col_heading level0 col1\" >Total Students</th>        <th class=\"col_heading level0 col2\" >Total Budget</th>        <th class=\"col_heading level0 col3\" >Average Math Score</th>        <th class=\"col_heading level0 col4\" >Average Reading Score</th>        <th class=\"col_heading level0 col5\" >% Passing Reading</th>        <th class=\"col_heading level0 col6\" >% Passing Math</th>        <th class=\"col_heading level0 col7\" >Overall Passing Rate</th>    </tr></thead><tbody>\n",
       "                <tr>\n",
       "                                <td id=\"T_5285a230_406a_11ea_8fbe_3ccd365e1f6erow0_col0\" class=\"data row0 col0\" >15</td>\n",
       "                        <td id=\"T_5285a230_406a_11ea_8fbe_3ccd365e1f6erow0_col1\" class=\"data row0 col1\" >39,170</td>\n",
       "                        <td id=\"T_5285a230_406a_11ea_8fbe_3ccd365e1f6erow0_col2\" class=\"data row0 col2\" >$24,649,428.00</td>\n",
       "                        <td id=\"T_5285a230_406a_11ea_8fbe_3ccd365e1f6erow0_col3\" class=\"data row0 col3\" >78.99</td>\n",
       "                        <td id=\"T_5285a230_406a_11ea_8fbe_3ccd365e1f6erow0_col4\" class=\"data row0 col4\" >81.88</td>\n",
       "                        <td id=\"T_5285a230_406a_11ea_8fbe_3ccd365e1f6erow0_col5\" class=\"data row0 col5\" >85.81%</td>\n",
       "                        <td id=\"T_5285a230_406a_11ea_8fbe_3ccd365e1f6erow0_col6\" class=\"data row0 col6\" >74.98%</td>\n",
       "                        <td id=\"T_5285a230_406a_11ea_8fbe_3ccd365e1f6erow0_col7\" class=\"data row0 col7\" >80.43%</td>\n",
=======
       "</style><table id=\"T_5622af4a_3e66_11ea_b998_7cb27dd5a2bd\" ><thead>    <tr>        <th class=\"col_heading level0 col0\" >Total Schools</th>        <th class=\"col_heading level0 col1\" >Total Students</th>        <th class=\"col_heading level0 col2\" >Total Budget</th>        <th class=\"col_heading level0 col3\" >Average Math Score</th>        <th class=\"col_heading level0 col4\" >Average Reading Score</th>        <th class=\"col_heading level0 col5\" >% Passing Reading</th>        <th class=\"col_heading level0 col6\" >% Passing Math</th>        <th class=\"col_heading level0 col7\" >Overall Passing Rate</th>    </tr></thead><tbody>\n",
       "                <tr>\n",
       "                                <td id=\"T_5622af4a_3e66_11ea_b998_7cb27dd5a2bdrow0_col0\" class=\"data row0 col0\" >15</td>\n",
       "                        <td id=\"T_5622af4a_3e66_11ea_b998_7cb27dd5a2bdrow0_col1\" class=\"data row0 col1\" >39,170</td>\n",
       "                        <td id=\"T_5622af4a_3e66_11ea_b998_7cb27dd5a2bdrow0_col2\" class=\"data row0 col2\" >$24,649,428.00</td>\n",
       "                        <td id=\"T_5622af4a_3e66_11ea_b998_7cb27dd5a2bdrow0_col3\" class=\"data row0 col3\" >78.99</td>\n",
       "                        <td id=\"T_5622af4a_3e66_11ea_b998_7cb27dd5a2bdrow0_col4\" class=\"data row0 col4\" >81.88</td>\n",
       "                        <td id=\"T_5622af4a_3e66_11ea_b998_7cb27dd5a2bdrow0_col5\" class=\"data row0 col5\" >85.81%</td>\n",
       "                        <td id=\"T_5622af4a_3e66_11ea_b998_7cb27dd5a2bdrow0_col6\" class=\"data row0 col6\" >74.98%</td>\n",
       "                        <td id=\"T_5622af4a_3e66_11ea_b998_7cb27dd5a2bdrow0_col7\" class=\"data row0 col7\" >80.43%</td>\n",
>>>>>>> 9d65e547d692773e06966096e128ed8d91929129
       "            </tr>\n",
       "    </tbody></table>"
      ],
      "text/plain": [
<<<<<<< HEAD
       "<pandas.io.formats.style.Styler at 0x12231f3d0>"
=======
       "<pandas.io.formats.style.Styler at 0x273947e7ec8>"
>>>>>>> 9d65e547d692773e06966096e128ed8d91929129
      ]
     },
     "execution_count": 2,
     "metadata": {},
     "output_type": "execute_result"
    }
   ],
   "source": [
    "# Use len() to count rows in a dataframe\n",
    "NumberOfSchools = len(school_data)\n",
    "#print(\"Number of schools: \", NumberOfSchools)\n",
    "NumberOfStudents = len(student_data)\n",
    "#print(\"Number of students: \", NumberOfStudents)\n",
    "\n",
    "# Use .sum() to computer total of a dataframe column\n",
    "TotalBudget = school_data[\"budget\"].sum()\n",
    "#print(\"Total Budget: \", TotalBudget)\n",
    "\n",
    "# Use .mean() to calculate averate of a dataframe column\n",
    "AverageMathScore = student_data[\"math_score\"].mean()\n",
    "#print(\"Average math score: \", AverageMathScore)\n",
    "AverageReadingScore = student_data[\"reading_score\"].mean()\n",
    "#print(\"Average reading score: \", AverageReadingScore)\n",
    "\n",
    "OverallPassingRate = (AverageMathScore + AverageReadingScore) / 2.0\n",
    "#print(\"Overall passing rate: \", OverallPassingRate)\n",
    "\n",
    "# Apply conditional \"math_score >= 70\" to select rows and combin\n",
    "# that with len() function as done above to get student count.\n",
    "\n",
    "CountMath70 = len(student_data[student_data.math_score >= 70])\n",
    "CountReading70 = len(student_data[student_data.reading_score >= 70])\n",
    "#print(\"Math score over 70: \", CountMath70)\n",
    "#print(\"Reading score over 70: \",CountReading70)\n",
    "\n",
    "# Percentage calculation\n",
    "PercentMath70 = (CountMath70 / NumberOfStudents) * 100.0\n",
    "PercentReading70 = (CountReading70 / NumberOfStudents) * 100.0\n",
    "#print(\"Percent of students with passing math score: \", PercentMath70)\n",
    "#print(\"Percent of students with passing reading score: \", PercentReading70)\n",
    "\n",
    "# Create a dictionary with the data to be displayed\n",
    "# then create a dataframe with the dictionary data.\n",
    "\n",
    "d = {'Total Schools':[NumberOfSchools], 'Total Students':[NumberOfStudents], 'Total Budget':[TotalBudget],\n",
    "    'Average Math Score':[AverageMathScore], 'Average Reading Score':[AverageReadingScore],\n",
    "    '% Passing Reading':[PercentReading70], '% Passing Math':[PercentMath70],\n",
    "    'Overall Passing Rate':[OverallPassingRate]}\n",
    "\n",
    "# Creeate a new data rame using the dictionary just created\n",
    "summary = pd.DataFrame(data=d)\n",
    "\n",
    "# Useful web page with formatting information - this includes the hide_index() tip\n",
    "# https://pbpython.com/styling-pandas.html\n",
    "# Two digits past decimal on scores and passing rates seems more than enough\n",
    "summary_format = {'Total Students':'{0:,}', 'Total Budget':'${0:,.2f}',\n",
    "                 'Average Math Score':'{0:.2f}', 'Average Reading Score':'{0:.2f}',\n",
    "                 '% Passing Reading':'{0:.2f}%', '% Passing Math':'{0:.2f}%',\n",
    "                 'Overall Passing Rate':'{0:.2f}%'}\n",
    "\n",
    "# Print new data frame\n",
    "summary.style.format(summary_format).hide_index()"
   ]
  },
  {
   "cell_type": "markdown",
   "metadata": {},
   "source": [
    "## School Summary"
   ]
  },
  {
   "cell_type": "markdown",
   "metadata": {},
   "source": [
    "* Create an overview table that summarizes key metrics about each school, including:\n",
    "  * School Name\n",
    "  * School Type\n",
    "  * Total Students\n",
    "  * Total School Budget\n",
    "  * Per Student Budget\n",
    "  * Average Math Score\n",
    "  * Average Reading Score\n",
    "  * % Passing Math\n",
    "  * % Passing Reading\n",
    "  * Overall Passing Rate (Average of the above two)\n",
    "  \n",
    "* Create a dataframe to hold the above results"
   ]
  },
  {
   "cell_type": "markdown",
   "metadata": {},
   "source": [
    "## Top Performing Schools (By Passing Rate)"
   ]
  },
  {
   "cell_type": "markdown",
   "metadata": {},
   "source": [
    "* Sort and display the top five schools in overall passing rate"
   ]
  },
  {
   "cell_type": "code",
   "execution_count": 3,
   "metadata": {
    "scrolled": false
   },
   "outputs": [],
   "source": [
    "# Add a per student budget entry\n",
    "school_data_complete['percap'] = school_data_complete['budget'] / school_data_complete['size']\n",
    "\n",
    "# Add a column to indicate if student passed math\n",
    "# This will be 'True' or 'False' now and be converted to percent when we apply mean\n",
    "school_data_complete['Math Passed'] = school_data_complete.math_score >= 70\n",
    "\n",
    "# Add a column to indicate if student passed reading\n",
    "school_data_complete['Reading Passed'] = school_data_complete.reading_score >= 70\n",
    "\n",
    "# To view frame with new columns - use head() to just output small amount\n",
    "#school_data_complete.head()\n",
    "\n",
    "# This will apply the mean function to all data.\n",
    "# Problem is that school type will be dropped beause it is non-numeric\n",
    "# so have to pick up school type later.\n",
    "# The average of the student ID has no meaning but itnot needed.\n",
    "ranking = school_data_complete.groupby('school_name').apply(numpy.mean)\n",
    "\n",
    "# Applying nuympy.mean converted math and reading passing to percentages\n",
    "# Compute the average passing percentage\n",
    "ranking['Overall Passing'] = (ranking['Math Passed'] + ranking['Reading Passed']) / 2.0\n",
    "\n",
    "# Print first part of table to check added columns\n",
    "#ranking.head()\n"
   ]
  },
  {
   "cell_type": "code",
   "execution_count": 4,
   "metadata": {},
   "outputs": [],
   "source": [
    "# The numpy.mean function deleted the school type because it was non-numeric\n",
    "# Create a dataframe with school names and school type\n",
    "school_type = school_data[['school_name','type']]\n",
    "\n",
    "# Print first part to check new dataframe\n",
    "#school_type.head()"
   ]
  },
  {
   "cell_type": "code",
   "execution_count": 5,
   "metadata": {},
   "outputs": [],
   "source": [
    "# Merge new data frames to get single data frame with the following:\n",
    "#  school type, overall passing rate, scores from first dataframe\n",
    "summary = pd.merge(ranking, school_type, how=\"left\", on=[\"school_name\", \"school_name\"])\n",
    "\n",
    "# Print to check new dataframe\n",
    "#summary.head()"
   ]
  },
  {
   "cell_type": "code",
   "execution_count": 6,
   "metadata": {
    "scrolled": true
   },
   "outputs": [
    {
     "name": "stderr",
     "output_type": "stream",
     "text": [
      "/usr/local/lib/python3.7/site-packages/pandas/core/frame.py:4238: SettingWithCopyWarning: \n",
      "A value is trying to be set on a copy of a slice from a DataFrame\n",
      "\n",
      "See the caveats in the documentation: http://pandas.pydata.org/pandas-docs/stable/user_guide/indexing.html#returning-a-view-versus-a-copy\n",
      "  return super().rename(**kwargs)\n",
      "/usr/local/lib/python3.7/site-packages/pandas/core/indexing.py:205: SettingWithCopyWarning: \n",
      "A value is trying to be set on a copy of a slice from a DataFrame\n",
      "\n",
      "See the caveats in the documentation: http://pandas.pydata.org/pandas-docs/stable/user_guide/indexing.html#returning-a-view-versus-a-copy\n",
      "  self._setitem_with_indexer(indexer, value)\n"
     ]
    }
   ],
   "source": [
    "# Create a data frame with just the performance data we want to output\n",
    "performance = summary[[\"school_name\", \"type\", \"size\", \"budget\", \"percap\", \"math_score\",\n",
    "                     \"reading_score\", 'Math Passed', \"Reading Passed\", \"Overall Passing\"]]\n",
    "\n",
    "# Rename columns as desired in output\n",
    "performance.rename(columns={\"school_name\": \"School Name\", \"type\": \"School Type\", \"size\": \"Total Students\",\n",
    "                           \"budget\": \"Total School Budget\", \"percap\": \"Per Student Budget\",\n",
    "                           \"math_score\": \"Average math Score\", \"reading_score\": \"Average Reading Score\",\n",
    "                           \"Math Passed\": \"% Passing Math\", \"Reading Passed\": \"% Passing Reading\",\n",
    "                           \"Overall Passing\": \"% Overall Passing Rate\"}, inplace = True)\n",
    "\n",
    "# The percentages are all fractions less than 1 so need to be multipled by 100 to\n",
    "# make them look as desired in the output.\n",
    "# The .loc statement reduces but does not eliminate warnings\n",
    "performance.loc[\"% Passing Math\"] = 100.0 * performance[\"% Passing Math\"]\n",
    "performance.loc[\"% Passing Reading\"] = 100.0 * performance[\"% Passing Reading\"]\n",
    "performance.loc[\"% Overall Passing Rate\"] = 100.0 * performance[\"% Overall Passing Rate\"]\n",
    "\n",
    "# Create a format statement to make the output look nice\n",
    "performance_format = {'Total Students':'{0:,}', 'Total School Budget':'${0:,.2f}',\n",
    "                       'Per Student Budget':'${0:,.2f}', 'Average Math Score':'{0:,.2f}',\n",
    "                       'Average Reading Score':'{0:,.2f}', '% Passing Math':'{0:.2f}%',\n",
    "                       '% Passing Reading':'{0:.2f}%', '% Overall Passing Rate':'{0:.2f}%'}\n",
    "\n",
    "# Check results\n",
    "#performance.head().style.format(performance_format).hide_index()"
   ]
  },
  {
   "cell_type": "code",
   "execution_count": 7,
   "metadata": {},
   "outputs": [
    {
     "data": {
      "text/html": [
       "<style  type=\"text/css\" >\n",
       "</style><table id=\"T_52e807f4_406a_11ea_8fbe_3ccd365e1f6e\" ><thead>    <tr>        <th class=\"col_heading level0 col0\" >School Name</th>        <th class=\"col_heading level0 col1\" >School Type</th>        <th class=\"col_heading level0 col2\" >Total Students</th>        <th class=\"col_heading level0 col3\" >Total School Budget</th>        <th class=\"col_heading level0 col4\" >Per Student Budget</th>        <th class=\"col_heading level0 col5\" >Average math Score</th>        <th class=\"col_heading level0 col6\" >Average Reading Score</th>        <th class=\"col_heading level0 col7\" >% Passing Math</th>        <th class=\"col_heading level0 col8\" >% Passing Reading</th>        <th class=\"col_heading level0 col9\" >% Overall Passing Rate</th>    </tr></thead><tbody>\n",
       "                <tr>\n",
       "                                <td id=\"T_52e807f4_406a_11ea_8fbe_3ccd365e1f6erow0_col0\" class=\"data row0 col0\" >Cabrera High School</td>\n",
       "                        <td id=\"T_52e807f4_406a_11ea_8fbe_3ccd365e1f6erow0_col1\" class=\"data row0 col1\" >Charter</td>\n",
       "                        <td id=\"T_52e807f4_406a_11ea_8fbe_3ccd365e1f6erow0_col2\" class=\"data row0 col2\" >1,858.0</td>\n",
       "                        <td id=\"T_52e807f4_406a_11ea_8fbe_3ccd365e1f6erow0_col3\" class=\"data row0 col3\" >$1,081,356.00</td>\n",
       "                        <td id=\"T_52e807f4_406a_11ea_8fbe_3ccd365e1f6erow0_col4\" class=\"data row0 col4\" >$582.00</td>\n",
       "                        <td id=\"T_52e807f4_406a_11ea_8fbe_3ccd365e1f6erow0_col5\" class=\"data row0 col5\" >83.0619</td>\n",
       "                        <td id=\"T_52e807f4_406a_11ea_8fbe_3ccd365e1f6erow0_col6\" class=\"data row0 col6\" >83.98</td>\n",
       "                        <td id=\"T_52e807f4_406a_11ea_8fbe_3ccd365e1f6erow0_col7\" class=\"data row0 col7\" >0.94%</td>\n",
       "                        <td id=\"T_52e807f4_406a_11ea_8fbe_3ccd365e1f6erow0_col8\" class=\"data row0 col8\" >0.97%</td>\n",
       "                        <td id=\"T_52e807f4_406a_11ea_8fbe_3ccd365e1f6erow0_col9\" class=\"data row0 col9\" >0.96%</td>\n",
       "            </tr>\n",
       "            <tr>\n",
       "                                <td id=\"T_52e807f4_406a_11ea_8fbe_3ccd365e1f6erow1_col0\" class=\"data row1 col0\" >Thomas High School</td>\n",
       "                        <td id=\"T_52e807f4_406a_11ea_8fbe_3ccd365e1f6erow1_col1\" class=\"data row1 col1\" >Charter</td>\n",
       "                        <td id=\"T_52e807f4_406a_11ea_8fbe_3ccd365e1f6erow1_col2\" class=\"data row1 col2\" >1,635.0</td>\n",
       "                        <td id=\"T_52e807f4_406a_11ea_8fbe_3ccd365e1f6erow1_col3\" class=\"data row1 col3\" >$1,043,130.00</td>\n",
       "                        <td id=\"T_52e807f4_406a_11ea_8fbe_3ccd365e1f6erow1_col4\" class=\"data row1 col4\" >$638.00</td>\n",
       "                        <td id=\"T_52e807f4_406a_11ea_8fbe_3ccd365e1f6erow1_col5\" class=\"data row1 col5\" >83.4183</td>\n",
       "                        <td id=\"T_52e807f4_406a_11ea_8fbe_3ccd365e1f6erow1_col6\" class=\"data row1 col6\" >83.85</td>\n",
       "                        <td id=\"T_52e807f4_406a_11ea_8fbe_3ccd365e1f6erow1_col7\" class=\"data row1 col7\" >0.93%</td>\n",
       "                        <td id=\"T_52e807f4_406a_11ea_8fbe_3ccd365e1f6erow1_col8\" class=\"data row1 col8\" >0.97%</td>\n",
       "                        <td id=\"T_52e807f4_406a_11ea_8fbe_3ccd365e1f6erow1_col9\" class=\"data row1 col9\" >0.95%</td>\n",
       "            </tr>\n",
       "            <tr>\n",
       "                                <td id=\"T_52e807f4_406a_11ea_8fbe_3ccd365e1f6erow2_col0\" class=\"data row2 col0\" >Pena High School</td>\n",
       "                        <td id=\"T_52e807f4_406a_11ea_8fbe_3ccd365e1f6erow2_col1\" class=\"data row2 col1\" >Charter</td>\n",
       "                        <td id=\"T_52e807f4_406a_11ea_8fbe_3ccd365e1f6erow2_col2\" class=\"data row2 col2\" >962.0</td>\n",
       "                        <td id=\"T_52e807f4_406a_11ea_8fbe_3ccd365e1f6erow2_col3\" class=\"data row2 col3\" >$585,858.00</td>\n",
       "                        <td id=\"T_52e807f4_406a_11ea_8fbe_3ccd365e1f6erow2_col4\" class=\"data row2 col4\" >$609.00</td>\n",
       "                        <td id=\"T_52e807f4_406a_11ea_8fbe_3ccd365e1f6erow2_col5\" class=\"data row2 col5\" >83.8399</td>\n",
       "                        <td id=\"T_52e807f4_406a_11ea_8fbe_3ccd365e1f6erow2_col6\" class=\"data row2 col6\" >84.04</td>\n",
       "                        <td id=\"T_52e807f4_406a_11ea_8fbe_3ccd365e1f6erow2_col7\" class=\"data row2 col7\" >0.95%</td>\n",
       "                        <td id=\"T_52e807f4_406a_11ea_8fbe_3ccd365e1f6erow2_col8\" class=\"data row2 col8\" >0.96%</td>\n",
       "                        <td id=\"T_52e807f4_406a_11ea_8fbe_3ccd365e1f6erow2_col9\" class=\"data row2 col9\" >0.95%</td>\n",
       "            </tr>\n",
       "            <tr>\n",
       "                                <td id=\"T_52e807f4_406a_11ea_8fbe_3ccd365e1f6erow3_col0\" class=\"data row3 col0\" >Griffin High School</td>\n",
       "                        <td id=\"T_52e807f4_406a_11ea_8fbe_3ccd365e1f6erow3_col1\" class=\"data row3 col1\" >Charter</td>\n",
       "                        <td id=\"T_52e807f4_406a_11ea_8fbe_3ccd365e1f6erow3_col2\" class=\"data row3 col2\" >1,468.0</td>\n",
       "                        <td id=\"T_52e807f4_406a_11ea_8fbe_3ccd365e1f6erow3_col3\" class=\"data row3 col3\" >$917,500.00</td>\n",
       "                        <td id=\"T_52e807f4_406a_11ea_8fbe_3ccd365e1f6erow3_col4\" class=\"data row3 col4\" >$625.00</td>\n",
       "                        <td id=\"T_52e807f4_406a_11ea_8fbe_3ccd365e1f6erow3_col5\" class=\"data row3 col5\" >83.3515</td>\n",
       "                        <td id=\"T_52e807f4_406a_11ea_8fbe_3ccd365e1f6erow3_col6\" class=\"data row3 col6\" >83.82</td>\n",
       "                        <td id=\"T_52e807f4_406a_11ea_8fbe_3ccd365e1f6erow3_col7\" class=\"data row3 col7\" >0.93%</td>\n",
       "                        <td id=\"T_52e807f4_406a_11ea_8fbe_3ccd365e1f6erow3_col8\" class=\"data row3 col8\" >0.97%</td>\n",
       "                        <td id=\"T_52e807f4_406a_11ea_8fbe_3ccd365e1f6erow3_col9\" class=\"data row3 col9\" >0.95%</td>\n",
       "            </tr>\n",
       "            <tr>\n",
       "                                <td id=\"T_52e807f4_406a_11ea_8fbe_3ccd365e1f6erow4_col0\" class=\"data row4 col0\" >Wilson High School</td>\n",
       "                        <td id=\"T_52e807f4_406a_11ea_8fbe_3ccd365e1f6erow4_col1\" class=\"data row4 col1\" >Charter</td>\n",
       "                        <td id=\"T_52e807f4_406a_11ea_8fbe_3ccd365e1f6erow4_col2\" class=\"data row4 col2\" >2,283.0</td>\n",
       "                        <td id=\"T_52e807f4_406a_11ea_8fbe_3ccd365e1f6erow4_col3\" class=\"data row4 col3\" >$1,319,574.00</td>\n",
       "                        <td id=\"T_52e807f4_406a_11ea_8fbe_3ccd365e1f6erow4_col4\" class=\"data row4 col4\" >$578.00</td>\n",
       "                        <td id=\"T_52e807f4_406a_11ea_8fbe_3ccd365e1f6erow4_col5\" class=\"data row4 col5\" >83.2742</td>\n",
       "                        <td id=\"T_52e807f4_406a_11ea_8fbe_3ccd365e1f6erow4_col6\" class=\"data row4 col6\" >83.99</td>\n",
       "                        <td id=\"T_52e807f4_406a_11ea_8fbe_3ccd365e1f6erow4_col7\" class=\"data row4 col7\" >0.94%</td>\n",
       "                        <td id=\"T_52e807f4_406a_11ea_8fbe_3ccd365e1f6erow4_col8\" class=\"data row4 col8\" >0.97%</td>\n",
       "                        <td id=\"T_52e807f4_406a_11ea_8fbe_3ccd365e1f6erow4_col9\" class=\"data row4 col9\" >0.95%</td>\n",
       "            </tr>\n",
       "    </tbody></table>"
      ],
      "text/plain": [
       "<pandas.io.formats.style.Styler at 0x122d07f10>"
      ]
     },
     "execution_count": 7,
     "metadata": {},
     "output_type": "execute_result"
    }
   ],
   "source": [
    "# Sort data by top passing (default sort is small to large so add ascending option)\n",
    "#performance.sort_values(by='% Overall Passing Rate', ascending=False).head(5)\n",
    "performance.sort_values(by='% Overall Passing Rate', ascending=False).head(5).style.format(performance_format).hide_index()"
   ]
  },
  {
   "cell_type": "markdown",
   "metadata": {},
   "source": [
    "## Bottom Performing Schools (By Passing Rate)"
   ]
  },
  {
   "cell_type": "markdown",
   "metadata": {},
   "source": [
    "* Sort and display the five worst-performing schools"
   ]
  },
  {
   "cell_type": "code",
   "execution_count": 8,
   "metadata": {},
   "outputs": [
    {
     "data": {
      "text/html": [
       "<style  type=\"text/css\" >\n",
       "</style><table id=\"T_52e99fa6_406a_11ea_8fbe_3ccd365e1f6e\" ><thead>    <tr>        <th class=\"col_heading level0 col0\" >School Name</th>        <th class=\"col_heading level0 col1\" >School Type</th>        <th class=\"col_heading level0 col2\" >Total Students</th>        <th class=\"col_heading level0 col3\" >Total School Budget</th>        <th class=\"col_heading level0 col4\" >Per Student Budget</th>        <th class=\"col_heading level0 col5\" >Average math Score</th>        <th class=\"col_heading level0 col6\" >Average Reading Score</th>        <th class=\"col_heading level0 col7\" >% Passing Math</th>        <th class=\"col_heading level0 col8\" >% Passing Reading</th>        <th class=\"col_heading level0 col9\" >% Overall Passing Rate</th>    </tr></thead><tbody>\n",
       "                <tr>\n",
       "                                <td id=\"T_52e99fa6_406a_11ea_8fbe_3ccd365e1f6erow0_col0\" class=\"data row0 col0\" >Rodriguez High School</td>\n",
       "                        <td id=\"T_52e99fa6_406a_11ea_8fbe_3ccd365e1f6erow0_col1\" class=\"data row0 col1\" >District</td>\n",
       "                        <td id=\"T_52e99fa6_406a_11ea_8fbe_3ccd365e1f6erow0_col2\" class=\"data row0 col2\" >3,999.0</td>\n",
       "                        <td id=\"T_52e99fa6_406a_11ea_8fbe_3ccd365e1f6erow0_col3\" class=\"data row0 col3\" >$2,547,363.00</td>\n",
       "                        <td id=\"T_52e99fa6_406a_11ea_8fbe_3ccd365e1f6erow0_col4\" class=\"data row0 col4\" >$637.00</td>\n",
       "                        <td id=\"T_52e99fa6_406a_11ea_8fbe_3ccd365e1f6erow0_col5\" class=\"data row0 col5\" >76.8427</td>\n",
       "                        <td id=\"T_52e99fa6_406a_11ea_8fbe_3ccd365e1f6erow0_col6\" class=\"data row0 col6\" >80.74</td>\n",
       "                        <td id=\"T_52e99fa6_406a_11ea_8fbe_3ccd365e1f6erow0_col7\" class=\"data row0 col7\" >0.66%</td>\n",
       "                        <td id=\"T_52e99fa6_406a_11ea_8fbe_3ccd365e1f6erow0_col8\" class=\"data row0 col8\" >0.80%</td>\n",
       "                        <td id=\"T_52e99fa6_406a_11ea_8fbe_3ccd365e1f6erow0_col9\" class=\"data row0 col9\" >0.73%</td>\n",
       "            </tr>\n",
       "            <tr>\n",
       "                                <td id=\"T_52e99fa6_406a_11ea_8fbe_3ccd365e1f6erow1_col0\" class=\"data row1 col0\" >Figueroa High School</td>\n",
       "                        <td id=\"T_52e99fa6_406a_11ea_8fbe_3ccd365e1f6erow1_col1\" class=\"data row1 col1\" >District</td>\n",
       "                        <td id=\"T_52e99fa6_406a_11ea_8fbe_3ccd365e1f6erow1_col2\" class=\"data row1 col2\" >2,949.0</td>\n",
       "                        <td id=\"T_52e99fa6_406a_11ea_8fbe_3ccd365e1f6erow1_col3\" class=\"data row1 col3\" >$1,884,411.00</td>\n",
       "                        <td id=\"T_52e99fa6_406a_11ea_8fbe_3ccd365e1f6erow1_col4\" class=\"data row1 col4\" >$639.00</td>\n",
       "                        <td id=\"T_52e99fa6_406a_11ea_8fbe_3ccd365e1f6erow1_col5\" class=\"data row1 col5\" >76.7118</td>\n",
       "                        <td id=\"T_52e99fa6_406a_11ea_8fbe_3ccd365e1f6erow1_col6\" class=\"data row1 col6\" >81.16</td>\n",
       "                        <td id=\"T_52e99fa6_406a_11ea_8fbe_3ccd365e1f6erow1_col7\" class=\"data row1 col7\" >0.66%</td>\n",
       "                        <td id=\"T_52e99fa6_406a_11ea_8fbe_3ccd365e1f6erow1_col8\" class=\"data row1 col8\" >0.81%</td>\n",
       "                        <td id=\"T_52e99fa6_406a_11ea_8fbe_3ccd365e1f6erow1_col9\" class=\"data row1 col9\" >0.73%</td>\n",
       "            </tr>\n",
       "            <tr>\n",
       "                                <td id=\"T_52e99fa6_406a_11ea_8fbe_3ccd365e1f6erow2_col0\" class=\"data row2 col0\" >Huang High School</td>\n",
       "                        <td id=\"T_52e99fa6_406a_11ea_8fbe_3ccd365e1f6erow2_col1\" class=\"data row2 col1\" >District</td>\n",
       "                        <td id=\"T_52e99fa6_406a_11ea_8fbe_3ccd365e1f6erow2_col2\" class=\"data row2 col2\" >2,917.0</td>\n",
       "                        <td id=\"T_52e99fa6_406a_11ea_8fbe_3ccd365e1f6erow2_col3\" class=\"data row2 col3\" >$1,910,635.00</td>\n",
       "                        <td id=\"T_52e99fa6_406a_11ea_8fbe_3ccd365e1f6erow2_col4\" class=\"data row2 col4\" >$655.00</td>\n",
       "                        <td id=\"T_52e99fa6_406a_11ea_8fbe_3ccd365e1f6erow2_col5\" class=\"data row2 col5\" >76.6294</td>\n",
       "                        <td id=\"T_52e99fa6_406a_11ea_8fbe_3ccd365e1f6erow2_col6\" class=\"data row2 col6\" >81.18</td>\n",
       "                        <td id=\"T_52e99fa6_406a_11ea_8fbe_3ccd365e1f6erow2_col7\" class=\"data row2 col7\" >0.66%</td>\n",
       "                        <td id=\"T_52e99fa6_406a_11ea_8fbe_3ccd365e1f6erow2_col8\" class=\"data row2 col8\" >0.81%</td>\n",
       "                        <td id=\"T_52e99fa6_406a_11ea_8fbe_3ccd365e1f6erow2_col9\" class=\"data row2 col9\" >0.74%</td>\n",
       "            </tr>\n",
       "            <tr>\n",
       "                                <td id=\"T_52e99fa6_406a_11ea_8fbe_3ccd365e1f6erow3_col0\" class=\"data row3 col0\" >Johnson High School</td>\n",
       "                        <td id=\"T_52e99fa6_406a_11ea_8fbe_3ccd365e1f6erow3_col1\" class=\"data row3 col1\" >District</td>\n",
       "                        <td id=\"T_52e99fa6_406a_11ea_8fbe_3ccd365e1f6erow3_col2\" class=\"data row3 col2\" >4,761.0</td>\n",
       "                        <td id=\"T_52e99fa6_406a_11ea_8fbe_3ccd365e1f6erow3_col3\" class=\"data row3 col3\" >$3,094,650.00</td>\n",
       "                        <td id=\"T_52e99fa6_406a_11ea_8fbe_3ccd365e1f6erow3_col4\" class=\"data row3 col4\" >$650.00</td>\n",
       "                        <td id=\"T_52e99fa6_406a_11ea_8fbe_3ccd365e1f6erow3_col5\" class=\"data row3 col5\" >77.0725</td>\n",
       "                        <td id=\"T_52e99fa6_406a_11ea_8fbe_3ccd365e1f6erow3_col6\" class=\"data row3 col6\" >80.97</td>\n",
       "                        <td id=\"T_52e99fa6_406a_11ea_8fbe_3ccd365e1f6erow3_col7\" class=\"data row3 col7\" >0.66%</td>\n",
       "                        <td id=\"T_52e99fa6_406a_11ea_8fbe_3ccd365e1f6erow3_col8\" class=\"data row3 col8\" >0.81%</td>\n",
       "                        <td id=\"T_52e99fa6_406a_11ea_8fbe_3ccd365e1f6erow3_col9\" class=\"data row3 col9\" >0.74%</td>\n",
       "            </tr>\n",
       "            <tr>\n",
       "                                <td id=\"T_52e99fa6_406a_11ea_8fbe_3ccd365e1f6erow4_col0\" class=\"data row4 col0\" >Ford High School</td>\n",
       "                        <td id=\"T_52e99fa6_406a_11ea_8fbe_3ccd365e1f6erow4_col1\" class=\"data row4 col1\" >District</td>\n",
       "                        <td id=\"T_52e99fa6_406a_11ea_8fbe_3ccd365e1f6erow4_col2\" class=\"data row4 col2\" >2,739.0</td>\n",
       "                        <td id=\"T_52e99fa6_406a_11ea_8fbe_3ccd365e1f6erow4_col3\" class=\"data row4 col3\" >$1,763,916.00</td>\n",
       "                        <td id=\"T_52e99fa6_406a_11ea_8fbe_3ccd365e1f6erow4_col4\" class=\"data row4 col4\" >$644.00</td>\n",
       "                        <td id=\"T_52e99fa6_406a_11ea_8fbe_3ccd365e1f6erow4_col5\" class=\"data row4 col5\" >77.1026</td>\n",
       "                        <td id=\"T_52e99fa6_406a_11ea_8fbe_3ccd365e1f6erow4_col6\" class=\"data row4 col6\" >80.75</td>\n",
       "                        <td id=\"T_52e99fa6_406a_11ea_8fbe_3ccd365e1f6erow4_col7\" class=\"data row4 col7\" >0.68%</td>\n",
       "                        <td id=\"T_52e99fa6_406a_11ea_8fbe_3ccd365e1f6erow4_col8\" class=\"data row4 col8\" >0.79%</td>\n",
       "                        <td id=\"T_52e99fa6_406a_11ea_8fbe_3ccd365e1f6erow4_col9\" class=\"data row4 col9\" >0.74%</td>\n",
       "            </tr>\n",
       "    </tbody></table>"
      ],
      "text/plain": [
       "<pandas.io.formats.style.Styler at 0x124657b10>"
      ]
     },
     "execution_count": 8,
     "metadata": {},
     "output_type": "execute_result"
    }
   ],
   "source": [
    "# Sort data by bottom passing\n",
    "performance.sort_values(by='% Overall Passing Rate').head(5).style.format(performance_format).hide_index()"
   ]
  },
  {
   "cell_type": "markdown",
   "metadata": {
    "collapsed": true
   },
   "source": [
    "## Math Scores by Grade"
   ]
  },
  {
   "cell_type": "markdown",
   "metadata": {},
   "source": [
    "* Create a table that lists the average Reading Score for students of each grade level (9th, 10th, 11th, 12th) at each school.\n",
    "\n",
    "  * Create a pandas series for each grade. Hint: use a conditional statement.\n",
    "  \n",
    "  * Group each series by school\n",
    "  \n",
    "  * Combine the series into a dataframe\n",
    "  \n",
    "  * Optional: give the displayed data cleaner formatting"
   ]
  },
  {
   "cell_type": "code",
   "execution_count": null,
   "metadata": {
    "scrolled": true
   },
   "outputs": [],
   "source": []
  },
  {
   "cell_type": "markdown",
   "metadata": {},
   "source": [
    "## Reading Score by Grade "
   ]
  },
  {
   "cell_type": "markdown",
   "metadata": {},
   "source": [
    "* Perform the same operations as above for reading scores"
   ]
  },
  {
   "cell_type": "code",
   "execution_count": null,
   "metadata": {},
   "outputs": [],
   "source": []
  },
  {
   "cell_type": "markdown",
   "metadata": {},
   "source": [
    "## Scores by School Spending"
   ]
  },
  {
   "cell_type": "markdown",
   "metadata": {},
   "source": [
    "* Create a table that breaks down school performances based on average Spending Ranges (Per Student). Use 4 reasonable bins to group school spending. Include in the table each of the following:\n",
    "  * Average Math Score\n",
    "  * Average Reading Score\n",
    "  * % Passing Math\n",
    "  * % Passing Reading\n",
    "  * Overall Passing Rate (Average of the above two)"
   ]
  },
  {
   "cell_type": "code",
   "execution_count": 9,
   "metadata": {},
   "outputs": [],
   "source": [
    "# Sample bins. Feel free to create your own bins.\n",
    "spending_bins = [0, 585, 615, 645, 675]\n",
    "group_names = [\"<$585\", \"$585-615\", \"$615-645\", \"$645-675\"]"
   ]
  },
  {
   "cell_type": "code",
   "execution_count": null,
   "metadata": {},
   "outputs": [],
   "source": []
  },
  {
   "cell_type": "markdown",
   "metadata": {},
   "source": [
    "## Scores by School Size"
   ]
  },
  {
   "cell_type": "markdown",
   "metadata": {},
   "source": [
    "* Perform the same operations as above, based on school size."
   ]
  },
  {
   "cell_type": "code",
   "execution_count": 10,
   "metadata": {},
   "outputs": [],
   "source": [
    "# Sample bins. Feel free to create your own bins.\n",
    "size_bins = [0, 1000, 2000, 5000]\n",
    "group_names = [\"Small (<1000)\", \"Medium (1000-2000)\", \"Large (2000-5000)\"]"
   ]
  },
  {
   "cell_type": "code",
   "execution_count": null,
   "metadata": {
    "scrolled": true
   },
   "outputs": [],
   "source": []
  },
  {
   "cell_type": "markdown",
   "metadata": {},
   "source": [
    "## Scores by School Type"
   ]
  },
  {
   "cell_type": "markdown",
   "metadata": {},
   "source": [
    "* Perform the same operations as above, based on school type."
   ]
  },
  {
   "cell_type": "code",
   "execution_count": null,
   "metadata": {},
   "outputs": [],
   "source": []
  },
  {
   "cell_type": "code",
   "execution_count": null,
   "metadata": {},
   "outputs": [],
   "source": []
  },
  {
   "cell_type": "code",
   "execution_count": null,
   "metadata": {},
   "outputs": [],
   "source": []
  }
 ],
 "metadata": {
  "anaconda-cloud": {},
  "kernel_info": {
   "name": "python3"
  },
  "kernelspec": {
   "display_name": "Python 3",
   "language": "python",
   "name": "python3"
  },
  "language_info": {
   "codemirror_mode": {
    "name": "ipython",
    "version": 3
   },
   "file_extension": ".py",
   "mimetype": "text/x-python",
   "name": "python",
   "nbconvert_exporter": "python",
   "pygments_lexer": "ipython3",
   "version": "3.7.4"
  },
  "latex_envs": {
   "LaTeX_envs_menu_present": true,
   "autoclose": false,
   "autocomplete": true,
   "bibliofile": "biblio.bib",
   "cite_by": "apalike",
   "current_citInitial": 1,
   "eqLabelWithNumbers": true,
   "eqNumInitial": 1,
   "hotkeys": {
    "equation": "Ctrl-E",
    "itemize": "Ctrl-I"
   },
   "labels_anchors": false,
   "latex_user_defs": false,
   "report_style_numbering": false,
   "user_envs_cfg": false
  },
  "nteract": {
   "version": "0.8.4"
  }
 },
 "nbformat": 4,
 "nbformat_minor": 1
}
